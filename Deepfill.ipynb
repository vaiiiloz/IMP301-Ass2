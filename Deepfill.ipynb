{
 "cells": [
  {
   "cell_type": "code",
   "execution_count": 10,
   "metadata": {},
   "outputs": [
    {
     "name": "stdout",
     "output_type": "stream",
     "text": [
      "Generator is created!\n",
      "Initialize generator with xavier type\n"
     ]
    }
   ],
   "source": [
    "from Deepfill import utils\n",
    "import argparse\n",
    "import cv2\n",
    "import torch\n",
    "import numpy as np\n",
    "# parser = argparse.ArgumentParser()\n",
    "# # General parameters\n",
    "# parser.add_argument('--results_path', type = str, default = './results', help = 'testing samples path that is a folder')\n",
    "# parser.add_argument('--gan_type', type = str, default = 'WGAN', help = 'the type of GAN for training')\n",
    "# parser.add_argument('--gpu_ids', type = str, default = \"0\", help = 'gpu ids: e.g. 0  0,1,2, 0,2. use -1 for CPU')\n",
    "# parser.add_argument('--cudnn_benchmark', type = bool, default = True, help = 'True for unchanged input data type')\n",
    "# # Training parameters\n",
    "# parser.add_argument('--epoch', type = int, default = 40, help = 'number of epochs of training')\n",
    "# parser.add_argument('--batch_size', type = int, default = 1, help = 'size of the batches')\n",
    "# parser.add_argument('--num_workers', type = int, default = 8, help = 'number of cpu threads to use during batch generation')\n",
    "# # Network parameters\n",
    "# parser.add_argument('--in_channels', type = int, default = 4, help = 'input RGB image + 1 channel mask')\n",
    "# parser.add_argument('--out_channels', type = int, default = 3, help = 'output RGB image')\n",
    "# parser.add_argument('--latent_channels', type = int, default = 48, help = 'latent channels')\n",
    "# parser.add_argument('--pad_type', type = str, default = 'zero', help = 'the padding type')\n",
    "# parser.add_argument('--activation', type = str, default = 'lrelu', help = 'the activation type')\n",
    "# parser.add_argument('--norm', type = str, default = 'in', help = 'normalization type')\n",
    "# parser.add_argument('--init_type', type = str, default = 'xavier', help = 'the initialization type')\n",
    "# parser.add_argument('--init_gain', type = float, default = 0.02, help = 'the initialization gain')\n",
    "\n",
    "# opt = parser.parse_args()\n",
    "\n",
    "class Config:\n",
    "    def __init__(self):\n",
    "        self.in_channels = 4\n",
    "        self.out_channels = 3\n",
    "        self.latent_channels=48\n",
    "        self.pad_type = 'zero'\n",
    "        self.activation = 'elu'\n",
    "        self.norm='none'\n",
    "        self.init_type = 'xavier'\n",
    "        self.init_gain=0.02\n",
    "\n",
    "opt = Config()\n",
    "\n",
    "generator = utils.create_generator(opt)\n",
    "generator.load_state_dict(torch.load('Deepfill\\\\deepfillv2_WGAN_G_epoch40_batchsize4.pth'))\n",
    "generator.eval()\n",
    "generator.cuda()\n",
    "\n",
    "\n",
    "img = cv2.imread('data\\\\image1.jpg')\n",
    "mask = cv2.imread('data\\\\mask1.jpg')[:, :, 0]\n",
    "img = cv2.cvtColor(img, cv2.COLOR_BGR2RGB)\n",
    "\n",
    "img = torch.from_numpy(img.astype(np.float32) / 255.0).permute(2, 0, 1).contiguous()\n",
    "mask = torch.from_numpy(mask.astype(np.float32) / 255.0).unsqueeze(0).contiguous()\n",
    "\n",
    "\n",
    "\n",
    "img = torch.stack([img])\n",
    "mask = torch.stack([mask])\n",
    "\n",
    "img = img.cuda()\n",
    "mask = mask.cuda()\n",
    "\n",
    "with torch.no_grad():\n",
    "    first_out, second_out = generator(img, mask)\n",
    "\n",
    "# forward propagation\n",
    "first_out_wholeimg = img * (1 - mask) + first_out * mask        # in range [0, 1]\n",
    "second_out_wholeimg = img * (1 - mask) + second_out * mask     # in range [0, 1]\n",
    "\n",
    "# print(img)\n",
    "\n",
    "masked_img = img * (1 - mask) + mask\n",
    "mask = torch.cat((mask, mask, mask), 1)\n",
    "img_list = [second_out_wholeimg]\n",
    "name_list = ['second_out']\n",
    "utils.save_sample_png(sample_folder = \"\", sample_name = '%d' % (0+ 1), img_list = img_list, name_list = name_list, pixel_max_cnt = 255)"
   ]
  }
 ],
 "metadata": {
  "kernelspec": {
   "display_name": "Python 3.8.8 ('base')",
   "language": "python",
   "name": "python3"
  },
  "language_info": {
   "codemirror_mode": {
    "name": "ipython",
    "version": 3
   },
   "file_extension": ".py",
   "mimetype": "text/x-python",
   "name": "python",
   "nbconvert_exporter": "python",
   "pygments_lexer": "ipython3",
   "version": "3.8.8"
  },
  "orig_nbformat": 4,
  "vscode": {
   "interpreter": {
    "hash": "c28da407b5413b3940d87ecdae5ea8ce0c2929d84f560e9f5daaaa2573d53e68"
   }
  }
 },
 "nbformat": 4,
 "nbformat_minor": 2
}
